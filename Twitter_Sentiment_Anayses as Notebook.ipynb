{
 "cells": [
  {
   "cell_type": "code",
   "execution_count": 1,
   "metadata": {},
   "outputs": [],
   "source": [
    "import numpy as np\n",
    "import pandas as pd\n",
    "import string\n",
    "from nltk.corpus import stopwords\n",
    "from sklearn.metrics import classification_report, confusion_matrix, accuracy_score\n",
    "from nltk.stem.lancaster import LancasterStemmer\n",
    "from nltk.tokenize import sent_tokenize,word_tokenize\n",
    "from nltk.stem import WordNetLemmatizer\n",
    "from nltk.stem import PorterStemmer"
   ]
  },
  {
   "cell_type": "code",
   "execution_count": 3,
   "metadata": {},
   "outputs": [
    {
     "data": {
      "text/html": [
       "<div>\n",
       "<style scoped>\n",
       "    .dataframe tbody tr th:only-of-type {\n",
       "        vertical-align: middle;\n",
       "    }\n",
       "\n",
       "    .dataframe tbody tr th {\n",
       "        vertical-align: top;\n",
       "    }\n",
       "\n",
       "    .dataframe thead th {\n",
       "        text-align: right;\n",
       "    }\n",
       "</style>\n",
       "<table border=\"1\" class=\"dataframe\">\n",
       "  <thead>\n",
       "    <tr style=\"text-align: right;\">\n",
       "      <th></th>\n",
       "      <th>tweet_id</th>\n",
       "      <th>airline_sentiment</th>\n",
       "      <th>airline</th>\n",
       "      <th>airline_sentiment_gold</th>\n",
       "      <th>name</th>\n",
       "      <th>negativereason_gold</th>\n",
       "      <th>retweet_count</th>\n",
       "      <th>text</th>\n",
       "      <th>tweet_coord</th>\n",
       "      <th>tweet_created</th>\n",
       "      <th>tweet_location</th>\n",
       "      <th>user_timezone</th>\n",
       "    </tr>\n",
       "  </thead>\n",
       "  <tbody>\n",
       "    <tr>\n",
       "      <th>0</th>\n",
       "      <td>567900433542488064</td>\n",
       "      <td>negative</td>\n",
       "      <td>Southwest</td>\n",
       "      <td>NaN</td>\n",
       "      <td>ColeyGirouard</td>\n",
       "      <td>NaN</td>\n",
       "      <td>0</td>\n",
       "      <td>@SouthwestAir I am scheduled for the morning, ...</td>\n",
       "      <td>NaN</td>\n",
       "      <td>2015-02-17 20:16:29 -0800</td>\n",
       "      <td>Washington D.C.</td>\n",
       "      <td>Atlantic Time (Canada)</td>\n",
       "    </tr>\n",
       "    <tr>\n",
       "      <th>1</th>\n",
       "      <td>569989168903819264</td>\n",
       "      <td>positive</td>\n",
       "      <td>Southwest</td>\n",
       "      <td>NaN</td>\n",
       "      <td>WalterFaddoul</td>\n",
       "      <td>NaN</td>\n",
       "      <td>0</td>\n",
       "      <td>@SouthwestAir seeing your workers time in and ...</td>\n",
       "      <td>NaN</td>\n",
       "      <td>2015-02-23 14:36:22 -0800</td>\n",
       "      <td>Indianapolis, Indiana; USA</td>\n",
       "      <td>Central Time (US &amp; Canada)</td>\n",
       "    </tr>\n",
       "    <tr>\n",
       "      <th>2</th>\n",
       "      <td>568089179520954368</td>\n",
       "      <td>positive</td>\n",
       "      <td>United</td>\n",
       "      <td>NaN</td>\n",
       "      <td>LocalKyle</td>\n",
       "      <td>NaN</td>\n",
       "      <td>0</td>\n",
       "      <td>@united Flew ORD to Miami and back and  had gr...</td>\n",
       "      <td>NaN</td>\n",
       "      <td>2015-02-18 08:46:29 -0800</td>\n",
       "      <td>Illinois</td>\n",
       "      <td>Central Time (US &amp; Canada)</td>\n",
       "    </tr>\n",
       "    <tr>\n",
       "      <th>3</th>\n",
       "      <td>568928195581513728</td>\n",
       "      <td>negative</td>\n",
       "      <td>Southwest</td>\n",
       "      <td>NaN</td>\n",
       "      <td>amccarthy19</td>\n",
       "      <td>NaN</td>\n",
       "      <td>0</td>\n",
       "      <td>@SouthwestAir @dultch97 that's horse radish ð...</td>\n",
       "      <td>NaN</td>\n",
       "      <td>2015-02-20 16:20:26 -0800</td>\n",
       "      <td>NaN</td>\n",
       "      <td>Atlantic Time (Canada)</td>\n",
       "    </tr>\n",
       "    <tr>\n",
       "      <th>4</th>\n",
       "      <td>568594180014014464</td>\n",
       "      <td>negative</td>\n",
       "      <td>United</td>\n",
       "      <td>NaN</td>\n",
       "      <td>J_Okayy</td>\n",
       "      <td>NaN</td>\n",
       "      <td>0</td>\n",
       "      <td>@united so our flight into ORD was delayed bec...</td>\n",
       "      <td>NaN</td>\n",
       "      <td>2015-02-19 18:13:11 -0800</td>\n",
       "      <td>NaN</td>\n",
       "      <td>Eastern Time (US &amp; Canada)</td>\n",
       "    </tr>\n",
       "  </tbody>\n",
       "</table>\n",
       "</div>"
      ],
      "text/plain": [
       "             tweet_id airline_sentiment    airline airline_sentiment_gold  \\\n",
       "0  567900433542488064          negative  Southwest                    NaN   \n",
       "1  569989168903819264          positive  Southwest                    NaN   \n",
       "2  568089179520954368          positive     United                    NaN   \n",
       "3  568928195581513728          negative  Southwest                    NaN   \n",
       "4  568594180014014464          negative     United                    NaN   \n",
       "\n",
       "            name negativereason_gold  retweet_count  \\\n",
       "0  ColeyGirouard                 NaN              0   \n",
       "1  WalterFaddoul                 NaN              0   \n",
       "2      LocalKyle                 NaN              0   \n",
       "3    amccarthy19                 NaN              0   \n",
       "4        J_Okayy                 NaN              0   \n",
       "\n",
       "                                                text tweet_coord  \\\n",
       "0  @SouthwestAir I am scheduled for the morning, ...         NaN   \n",
       "1  @SouthwestAir seeing your workers time in and ...         NaN   \n",
       "2  @united Flew ORD to Miami and back and  had gr...         NaN   \n",
       "3  @SouthwestAir @dultch97 that's horse radish ð...         NaN   \n",
       "4  @united so our flight into ORD was delayed bec...         NaN   \n",
       "\n",
       "               tweet_created              tweet_location  \\\n",
       "0  2015-02-17 20:16:29 -0800             Washington D.C.   \n",
       "1  2015-02-23 14:36:22 -0800  Indianapolis, Indiana; USA   \n",
       "2  2015-02-18 08:46:29 -0800                    Illinois   \n",
       "3  2015-02-20 16:20:26 -0800                         NaN   \n",
       "4  2015-02-19 18:13:11 -0800                         NaN   \n",
       "\n",
       "                user_timezone  \n",
       "0      Atlantic Time (Canada)  \n",
       "1  Central Time (US & Canada)  \n",
       "2  Central Time (US & Canada)  \n",
       "3      Atlantic Time (Canada)  \n",
       "4  Eastern Time (US & Canada)  "
      ]
     },
     "execution_count": 3,
     "metadata": {},
     "output_type": "execute_result"
    }
   ],
   "source": [
    "data=pd.read_csv(\"train.csv\",encoding='latin-1')\n",
    "data.head()"
   ]
  },
  {
   "cell_type": "code",
   "execution_count": 4,
   "metadata": {},
   "outputs": [
    {
     "data": {
      "text/plain": [
       "negative    6851\n",
       "neutral     2327\n",
       "positive    1802\n",
       "Name: airline_sentiment, dtype: int64"
      ]
     },
     "execution_count": 4,
     "metadata": {},
     "output_type": "execute_result"
    }
   ],
   "source": [
    "#print(data.shape)\n",
    "data.head()\n",
    "data.airline_sentiment.value_counts()"
   ]
  },
  {
   "cell_type": "code",
   "execution_count": 6,
   "metadata": {},
   "outputs": [
    {
     "data": {
      "text/plain": [
       "United            2928\n",
       "US Airways        2152\n",
       "American          2078\n",
       "Southwest         1817\n",
       "Delta             1639\n",
       "Virgin America     366\n",
       "Name: airline, dtype: int64"
      ]
     },
     "execution_count": 6,
     "metadata": {},
     "output_type": "execute_result"
    }
   ],
   "source": [
    "data.airline.value_counts()"
   ]
  },
  {
   "cell_type": "code",
   "execution_count": 7,
   "metadata": {},
   "outputs": [],
   "source": [
    "train_data=data.iloc[:,7]\n",
    "train_data=np.array(train_data)\n",
    "labels_data=data.iloc[:,1]\n",
    "labels_data=np.array(labels_data)"
   ]
  },
  {
   "cell_type": "code",
   "execution_count": 13,
   "metadata": {},
   "outputs": [
    {
     "data": {
      "text/html": [
       "<div>\n",
       "<style scoped>\n",
       "    .dataframe tbody tr th:only-of-type {\n",
       "        vertical-align: middle;\n",
       "    }\n",
       "\n",
       "    .dataframe tbody tr th {\n",
       "        vertical-align: top;\n",
       "    }\n",
       "\n",
       "    .dataframe thead th {\n",
       "        text-align: right;\n",
       "    }\n",
       "</style>\n",
       "<table border=\"1\" class=\"dataframe\">\n",
       "  <thead>\n",
       "    <tr style=\"text-align: right;\">\n",
       "      <th></th>\n",
       "      <th>text</th>\n",
       "    </tr>\n",
       "  </thead>\n",
       "  <tbody>\n",
       "    <tr>\n",
       "      <th>0</th>\n",
       "      <td>@SouthwestAir I am scheduled for the morning, ...</td>\n",
       "    </tr>\n",
       "    <tr>\n",
       "      <th>1</th>\n",
       "      <td>@SouthwestAir seeing your workers time in and ...</td>\n",
       "    </tr>\n",
       "    <tr>\n",
       "      <th>2</th>\n",
       "      <td>@united Flew ORD to Miami and back and  had gr...</td>\n",
       "    </tr>\n",
       "    <tr>\n",
       "      <th>3</th>\n",
       "      <td>@SouthwestAir @dultch97 that's horse radish ð...</td>\n",
       "    </tr>\n",
       "    <tr>\n",
       "      <th>4</th>\n",
       "      <td>@united so our flight into ORD was delayed bec...</td>\n",
       "    </tr>\n",
       "  </tbody>\n",
       "</table>\n",
       "</div>"
      ],
      "text/plain": [
       "                                                text\n",
       "0  @SouthwestAir I am scheduled for the morning, ...\n",
       "1  @SouthwestAir seeing your workers time in and ...\n",
       "2  @united Flew ORD to Miami and back and  had gr...\n",
       "3  @SouthwestAir @dultch97 that's horse radish ð...\n",
       "4  @united so our flight into ORD was delayed bec..."
      ]
     },
     "execution_count": 13,
     "metadata": {},
     "output_type": "execute_result"
    }
   ],
   "source": [
    "new_data=pd.DataFrame(train_data)\n",
    "new_data.columns=['text']\n",
    "new_data.head()"
   ]
  },
  {
   "cell_type": "code",
   "execution_count": 6,
   "metadata": {},
   "outputs": [
    {
     "data": {
      "text/plain": [
       "('0123456789', '!\"#$%&\\'()*+,-./:;<=>?@[\\\\]^_`{|}~')"
      ]
     },
     "execution_count": 6,
     "metadata": {},
     "output_type": "execute_result"
    }
   ],
   "source": [
    "string.digits,string.punctuation"
   ]
  },
  {
   "cell_type": "code",
   "execution_count": 7,
   "metadata": {},
   "outputs": [],
   "source": [
    "Stopwords = ['a', 'about', 'above', 'after', 'again', 'against', 'all', 'am', 'an', 'and', 'any', 'are', \"aren't\", 'as', 'at',\n",
    " 'be', 'because', 'been', 'before', 'being', 'but', 'by', \n",
    " 'can', \"can't\", 'cannot', 'could', \"couldn't\", 'did', \"didn't\", 'do', 'does', \"doesn't\", \"don't\", 'down', 'during',\n",
    " 'for', 'from', 'further', \n",
    " 'had', \"hadn't\", 'has', \"hasn't\", 'have', \"haven't\", 'having', 'he', \"he'd\", \"he'll\", \"he's\", 'her', 'here', \"here's\",\n",
    " 'hers', 'herself', 'him', 'himself', 'his', 'how', \"how's\",\n",
    " 'i', \"i'd\", \"i'll\", \"i'm\", \"i've\", 'if', 'in', 'into', 'is', \"isn't\", 'it', \"it's\", 'its', 'itself',\n",
    " \"let's\", 'me', 'more', 'most', \"mustn't\", 'my', 'myself', 'of', 'off', 'on', 'once', 'only', 'or', 'other', 'ought', 'our', 'ours' 'ourselves', 'out', 'own',\n",
    " 'same', \"shan't\", 'she', \"she'd\", \"she'll\", \"she's\", 'should', \"shouldn't\", 'so', 'some', 'such', \n",
    " 'than', 'that',\"that's\", 'the', 'their', 'theirs', 'them', 'themselves', 'then', 'there', \"there's\", 'these', 'they', \"they'd\", \n",
    " \"they'll\", \"they're\", \"they've\", 'this', 'those', 'through', 'to', 'too', 'under', 'until', 'up', 'very', \n",
    " 'was', \"wasn't\", 'we', \"we'd\", \"we'll\", \"we're\", \"we've\", 'were', \"weren't\", 'what', \"what's\", 'when', \"when's\", 'where',\n",
    " \"where's\", 'which', 'while', 'who', \"who's\", 'whom', 'why', \"why's\",'will', 'with', \"won't\", 'would', \"wouldn't\", \n",
    " 'you', \"you'd\", \"you'll\", \"you're\", \"you've\", 'your', 'yours', 'yourself', 'yourselves', ]"
   ]
  },
  {
   "cell_type": "code",
   "execution_count": 8,
   "metadata": {},
   "outputs": [],
   "source": [
    "porter=PorterStemmer()\n",
    "new_stem=WordNetLemmatizer()\n",
    "Stemmer=LancasterStemmer()"
   ]
  },
  {
   "cell_type": "markdown",
   "metadata": {},
   "source": [
    "# Removing the numeric and unneccessary data and stopwords from the data"
   ]
  },
  {
   "cell_type": "code",
   "execution_count": 9,
   "metadata": {},
   "outputs": [],
   "source": [
    "def text_preprocess(text):\n",
    "    text = [char for char in text if char not in string.punctuation]\n",
    "    text = ''.join(text)\n",
    "    text = [char for char in text if char not in string.digits]\n",
    "    text = ''.join(text)\n",
    "    text = [word for word in text.split() if word.lower() not in  Stopwords]\n",
    "    return \" \".join(text)"
   ]
  },
  {
   "cell_type": "code",
   "execution_count": 10,
   "metadata": {},
   "outputs": [],
   "source": [
    "trained_data_cleaned=[]\n",
    "for i in range(len(train_data)):\n",
    "    trained_data_cleaned.append(text_preprocess(train_data[i]))    "
   ]
  },
  {
   "cell_type": "markdown",
   "metadata": {},
   "source": [
    "# Stemming the words by using Porter Stemmer"
   ]
  },
  {
   "cell_type": "code",
   "execution_count": 11,
   "metadata": {},
   "outputs": [],
   "source": [
    "def new_fun(text):\n",
    "    text=word_tokenize(text)\n",
    "    text=[porter.stem(w.lower()) for w in text]\n",
    "    return ' '.join(text)"
   ]
  },
  {
   "cell_type": "code",
   "execution_count": 12,
   "metadata": {},
   "outputs": [],
   "source": [
    "new_train=[]\n",
    "for i in range(len(trained_data_cleaned)):\n",
    "     new_train.append(new_fun(trained_data_cleaned[i]))"
   ]
  },
  {
   "cell_type": "code",
   "execution_count": 13,
   "metadata": {},
   "outputs": [
    {
     "name": "stdout",
     "output_type": "stream",
     "text": [
      "negative    6851\n",
      "neutral     2327\n",
      "positive    1802\n",
      "Name: A, dtype: int64\n",
      "10980\n",
      "SouthwestAir scheduled morning days fact yesnot sure evening flight one Cancelled Flightled\n"
     ]
    }
   ],
   "source": [
    "labels_data\n",
    "labels_data=pd.DataFrame(labels_data)\n",
    "labels_data.columns=['A']\n",
    "print(labels_data.A.value_counts())\n",
    "print(len(labels_data))\n",
    "print(trained_data_cleaned[0])"
   ]
  },
  {
   "cell_type": "markdown",
   "metadata": {},
   "source": [
    "# Making Our class as in form of Numeric Data"
   ]
  },
  {
   "cell_type": "code",
   "execution_count": 14,
   "metadata": {},
   "outputs": [],
   "source": [
    "def ui(k):\n",
    "    if k=='negative':\n",
    "        return 0\n",
    "    elif k=='neutral':\n",
    "        return 1\n",
    "    elif k=='positive':\n",
    "        return 2\n",
    "labels_data['A']=labels_data['A'].apply(ui)"
   ]
  },
  {
   "cell_type": "code",
   "execution_count": 15,
   "metadata": {},
   "outputs": [
    {
     "data": {
      "text/plain": [
       "0    6851\n",
       "1    2327\n",
       "2    1802\n",
       "Name: A, dtype: int64"
      ]
     },
     "execution_count": 15,
     "metadata": {},
     "output_type": "execute_result"
    }
   ],
   "source": [
    "labels_data.A.value_counts()"
   ]
  },
  {
   "cell_type": "code",
   "execution_count": 16,
   "metadata": {},
   "outputs": [],
   "source": [
    "import nltk \n",
    "word=[]\n",
    "document=[]\n",
    "for i in new_train:\n",
    "    wrd=nltk.word_tokenize(i)\n",
    "    word.extend(wrd)\n",
    "    document.append(wrd)"
   ]
  },
  {
   "cell_type": "code",
   "execution_count": 17,
   "metadata": {},
   "outputs": [
    {
     "data": {
      "text/plain": [
       "114814"
      ]
     },
     "execution_count": 17,
     "metadata": {},
     "output_type": "execute_result"
    }
   ],
   "source": [
    "len(word)"
   ]
  },
  {
   "cell_type": "code",
   "execution_count": null,
   "metadata": {},
   "outputs": [],
   "source": []
  },
  {
   "cell_type": "markdown",
   "metadata": {},
   "source": [
    "# Splitting the Data into Train and Test"
   ]
  },
  {
   "cell_type": "code",
   "execution_count": 18,
   "metadata": {},
   "outputs": [],
   "source": [
    "from sklearn.model_selection import train_test_split"
   ]
  },
  {
   "cell_type": "code",
   "execution_count": 19,
   "metadata": {},
   "outputs": [],
   "source": [
    "x_train,x_test,y_train,y_test=train_test_split(new_train,labels_data,test_size=0.25)"
   ]
  },
  {
   "cell_type": "code",
   "execution_count": 20,
   "metadata": {},
   "outputs": [
    {
     "data": {
      "text/plain": [
       "(8235, 2745, 8235, 2745)"
      ]
     },
     "execution_count": 20,
     "metadata": {},
     "output_type": "execute_result"
    }
   ],
   "source": [
    "len(x_train),len(x_test),len(y_train),len(y_test)"
   ]
  },
  {
   "cell_type": "code",
   "execution_count": 21,
   "metadata": {},
   "outputs": [],
   "source": [
    "import matplotlib.pyplot as plt"
   ]
  },
  {
   "cell_type": "markdown",
   "metadata": {},
   "source": [
    "# Counting the Word Frequency and inverse of it"
   ]
  },
  {
   "cell_type": "code",
   "execution_count": 22,
   "metadata": {},
   "outputs": [],
   "source": [
    "from sklearn.feature_extraction.text import TfidfVectorizer"
   ]
  },
  {
   "cell_type": "code",
   "execution_count": 23,
   "metadata": {},
   "outputs": [],
   "source": [
    "Vectorizer=TfidfVectorizer(ngram_range=(1,5),max_features=1500)"
   ]
  },
  {
   "cell_type": "code",
   "execution_count": 24,
   "metadata": {},
   "outputs": [],
   "source": [
    "X_train=Vectorizer.fit_transform(x_train)\n",
    "X_test=Vectorizer.transform(x_test)"
   ]
  },
  {
   "cell_type": "code",
   "execution_count": 25,
   "metadata": {},
   "outputs": [
    {
     "data": {
      "text/plain": [
       "(10980, 1)"
      ]
     },
     "execution_count": 25,
     "metadata": {},
     "output_type": "execute_result"
    }
   ],
   "source": [
    "labels_data=np.array(labels_data)\n",
    "labels_data.ravel()\n",
    "labels_data.shape"
   ]
  },
  {
   "cell_type": "code",
   "execution_count": 26,
   "metadata": {},
   "outputs": [
    {
     "name": "stdout",
     "output_type": "stream",
     "text": [
      "['aa', 'abl', 'abl get', 'absolut', 'absurd', 'accept', 'access', 'accommod', 'account', 'actual', 'ad', 'add', 'addit', 'address', 'admir', 'admir club', 'advis', 'advisori', 'afford', 'afternoon', 'agent', 'ago', 'ahead', 'air', 'aircraft', 'airlin', 'airlin ever', 'airplan', 'airport', 'airway', 'alert', 'allow', 'almost', 'almost hour', 'alreadi', 'also', 'altern', 'although', 'alway', 'amaz', 'american', 'american airlin', 'americanair', 'americanair aa', 'americanair call', 'americanair cancel', 'americanair cancel flight', 'americanair cant', 'americanair dont', 'americanair flight', 'americanair flight cancel', 'americanair flight cancel flightl', 'americanair got', 'americanair guy', 'americanair help', 'americanair hey', 'americanair hour', 'americanair im', 'americanair ive', 'americanair just', 'americanair need', 'americanair no', 'americanair not', 'americanair now', 'americanair ok', 'americanair pleas', 'americanair still', 'americanair thank', 'americanair tri', 'americanair usairway', 'americanair wait', 'americanair worst', 'americanair ye', 'americanairlin', 'amp', 'amp now', 'announc', 'annoy', 'anoth', 'anoth airlin', 'anoth flight', 'anoth hour', 'answer', 'answer phone', 'anyon', 'anyth', 'anyway', 'anywher', 'apolog', 'app', 'appar', 'appear', 'appli', 'appreci', 'april', 'area', 'arent', 'around', 'arriv', 'asap', 'ask', 'assign', 'assist', 'atl', 'atlanta', 'attempt', 'attend', 'attitud', 'austin', 'auto', 'autom', 'automat', 'avail', 'avgeek', 'aw', 'award', 'away', 'awesom', 'babi', 'back', 'back gate', 'back home', 'back late', 'back late flightr', 'bad', 'bad weather', 'badservic', 'bag', 'bag flight', 'bag lost', 'bag not', 'baggag', 'baggag claim', 'bank', 'battl', 'bc', 'beauti', 'becom', 'begin', 'behind', 'believ', 'best', 'best airlin', 'better', 'between', 'beyond', 'big', 'bin', 'birthday', 'bit', 'blame', 'blue', 'bna', 'bo', 'board', 'board flight', 'board pass', 'board plane', 'book', 'book flight', 'book problem', 'boston', 'both', 'bother', 'bought', 'brand', 'break', 'bring', 'broken', 'brother', 'bs', 'btw', 'bu', 'bump', 'busi', 'buy', 'bwi', 'cab', 'cabin', 'call', 'call back', 'call custom', 'call custom servic', 'callback', 'came', 'cancel', 'cancel flight', 'cancel flight flight', 'cancel flightat', 'cancel flightl', 'cancel flightl flight', 'cancel flightl no', 'cancel flightlat', 'cant', 'cant book', 'cant even', 'cant find', 'cant get', 'cant seem', 'cant wait', 'captain', 'car', 'car seat', 'card', 'care', 'carri', 'carrier', 'case', 'catch', 'cater', 'caus', 'center', 'ceo', 'chanc', 'chang', 'chang fee', 'chang flight', 'charact', 'charg', 'charlott', 'check', 'check bag', 'check flight', 'checkin', 'chicago', 'child', 'choic', 'choos', 'citi', 'claim', 'class', 'clean', 'clear', 'clearli', 'click', 'close', 'cloth', 'clt', 'club', 'code', 'cold', 'come', 'commerci', 'commun', 'compani', 'companion', 'companion pass', 'compens', 'complain', 'complaint', 'complet', 'comput', 'concern', 'condit', 'conf', 'confirm', 'confirm number', 'confus', 'connect', 'connect flight', 'consid', 'consist', 'contact', 'continu', 'control', 'cool', 'corpor', 'correct', 'cost', 'couldnt', 'count', 'counter', 'countri', 'cours', 'cover', 'crazi', 'credit', 'credit card', 'crew', 'cri', 'cross', 'cs', 'current', 'cust', 'custom', 'custom care', 'custom relat', 'custom servic', 'custom servic ever', 'custom servic rep', 'customerservic', 'cut', 'daili', 'dalla', 'damag', 'damn', 'date', 'daughter', 'day', 'dc', 'dca', 'deal', 'decid', 'decis', 'definit', 'delay', 'delay cancel', 'delay due', 'delay flight', 'delay hour', 'deliv', 'deliveri', 'delta', 'den', 'deni', 'denver', 'depart', 'departur', 'departur time', 'deplan', 'dept', 'deserv', 'desk', 'despit', 'destin', 'destinationdragon', 'detail', 'dfw', 'dfwairport', 'didnt', 'didnt get', 'die', 'diego', 'differ', 'direct', 'direct flight', 'disappoint', 'disconnect', 'disgust', 'dividend', 'dividend mile', 'dm', 'dmd', 'do', 'doesnt', 'dog', 'dollar', 'domest', 'done', 'dont', 'dont care', 'dont know', 'dont see', 'dont think', 'dont want', 'door', 'dragon', 'drink', 'drive', 'drop', 'due', 'due weather', 'each', 'earli', 'earlier', 'earlier flight', 'earn', 'easi', 'eat', 'effort', 'either', 'els', 'email', 'email address', 'emerg', 'employe', 'empti', 'end', 'enjoy', 'enough', 'enter', 'entertain', 'entir', 'equip', 'error', 'especi', 'even', 'even though', 'ever', 'everi', 'everi time', 'everyon', 'everyth', 'ewr', 'exactli', 'except', 'excit', 'excus', 'exist', 'exit', 'expect', 'expens', 'experi', 'experi ever', 'experienc', 'expir', 'explain', 'explan', 'extra', 'extrem', 'face', 'fact', 'fail', 'failur', 'fair', 'fall', 'famili', 'fan', 'fantast', 'far', 'fare', 'fault', 'favorit', 'feb', 'fee', 'feedback', 'feel', 'feel like', 'few', 'figur', 'file', 'fill', 'final', 'final got', 'find', 'fine', 'finger', 'first', 'first class', 'first flight', 'first time', 'fix', 'fl', 'fleek', 'fleet', 'fleet fleek', 'flew', 'fli', 'fli guy', 'fli southwest', 'fli unit', 'flight', 'flight amp', 'flight arriv', 'flight attend', 'flight book', 'flight book problem', 'flight cancel', 'flight cancel flight', 'flight cancel flightl', 'flight cant', 'flight chang', 'flight crew', 'flight day', 'flight delay', 'flight dfw', 'flight due', 'flight even', 'flight flight', 'flight get', 'flight go', 'flight got', 'flight help', 'flight home', 'flight hour', 'flight im', 'flight jfk', 'flight just', 'flight land', 'flight leav', 'flight morn', 'flight no', 'flight not', 'flight now', 'flight pleas', 'flight schedul', 'flight still', 'flight thank', 'flight time', 'flight today', 'flight tomorrow', 'flight tonight', 'flight ua', 'flight us', 'flight yesterday', 'flightat', 'flightd', 'flightl', 'flightl flight', 'flightlat', 'flightr', 'flightr still', 'fll', 'florida', 'flown', 'flt', 'flyer', 'folk', 'follow', 'follow back', 'follow dm', 'food', 'forc', 'forget', 'form', 'forward', 'found', 'four', 'free', 'freez', 'frequent', 'friday', 'friend', 'friendli', 'front', 'frustrat', 'fuck', 'full', 'fun', 'funer', 'funni', 'futur', 'fyi', 'game', 'gate', 'gate agent', 'gave', 'get', 'get anoth', 'get back', 'get bag', 'get call', 'get cancel', 'get delay', 'get flight', 'get help', 'get home', 'get plane', 'get us', 'give', 'given', 'glad', 'go', 'go back', 'go home', 'god', 'gold', 'gon', 'gon na', 'gone', 'good', 'good luck', 'got', 'got call', 'got cancel', 'got email', 'gotten', 'great', 'great flight', 'great servic', 'great thank', 'ground', 'group', 'gt', 'guess', 'guy', 'haha', 'half', 'half hour', 'hand', 'handl', 'hang', 'happen', 'happi', 'hard', 'hasnt', 'hate', 'havent', 'he', 'head', 'hear', 'heard', 'held', 'hell', 'hello', 'help', 'help get', 'help rebook', 'help us', 'hey', 'hi', 'hi just', 'high', 'hire', 'hold', 'hold hour', 'hold hr', 'hold min', 'hold minut', 'hold over', 'hold over hour', 'home', 'honest', 'honor', 'hope', 'horribl', 'hotel', 'hour', 'hour ago', 'hour delay', 'hour flight', 'hour half', 'hour hold', 'hour late', 'hour late flight', 'hour late flightr', 'hour minut', 'hour no', 'hour now', 'hour wait', 'houston', 'howev', 'hr', 'hr delay', 'hr flight', 'hr hold', 'hr late', 'huge', 'human', 'hundr', 'hung', 'husband', 'iad', 'iah', 'ice', 'id', 'id like', 'idea', 'ill', 'im', 'im fli', 'im go', 'im not', 'im sorri', 'im still', 'im sure', 'im tri', 'imagin', 'imagin dragon', 'imaginedragon', 'imposs', 'impress', 'improv', 'includ', 'incompet', 'inconveni', 'incred', 'infant', 'inflight', 'info', 'inform', 'insid', 'instead', 'intern', 'intern flight', 'internet', 'isnt', 'issu', 'item', 'itinerari', 'ive', 'ive ever', 'ive hold', 'ive tri', 'iâ', 'jet', 'jet blue', 'jetblu', 'jetblu airway', 'jetblu dont', 'jetblu fleet', 'jetblu fleet fleek', 'jetblu flight', 'jetblu great', 'jetblu im', 'jetblu just', 'jetblu love', 'jetblu no', 'jetblu not', 'jetblu thank', 'jetblu well', 'jetblu what', 'jetblu ye', 'jfk', 'job', 'joke', 'just', 'just got', 'just need', 'just sent', 'just want', 'keep', 'keep get', 'kept', 'kid', 'kill', 'kind', 'knew', 'know', 'known', 'kudo', 'la', 'lack', 'ladi', 'land', 'last', 'last flight', 'last night', 'last time', 'late', 'late flight', 'late flightr', 'late flightr still', 'lax', 'layov', 'learn', 'least', 'leav', 'left', 'leg', 'legroom', 'less', 'let', 'let know', 'let us', 'letter', 'level', 'lga', 'lie', 'life', 'like', 'line', 'link', 'list', 'listen', 'liter', 'littl', 'live', 'load', 'locat', 'lol', 'long', 'long take', 'long wait', 'longer', 'look', 'look forward', 'look like', 'lose', 'lost', 'lost bag', 'lost luggag', 'lot', 'loung', 'love', 'love fli', 'loyal', 'loyal custom', 'lt', 'luck', 'luggag', 'luv', 'mad', 'made', 'mail', 'mainten', 'major', 'make', 'make connect', 'make sure', 'make us', 'man', 'manag', 'mani', 'march', 'mark', 'market', 'match', 'matter', 'may', 'mayb', 'mco', 'meal', 'mean', 'mechan', 'mechan issu', 'media', 'meet', 'member', 'mention', 'merg', 'merger', 'mess', 'messag', 'mexico', 'mia', 'miami', 'middl', 'might', 'mile', 'mileag', 'min', 'min hold', 'min late', 'mind', 'mine', 'minut', 'minut hold', 'minut wait', 'miss', 'miss connect', 'miss connect flight', 'miss flight', 'mistak', 'mobil', 'mom', 'monday', 'money', 'month', 'month ago', 'morn', 'move', 'msg', 'much', 'multipl', 'must', 'na', 'name', 'nashvil', 'nd', 'near', 'need', 'need chang', 'need get', 'need help', 'never', 'never fli', 'never got', 'neveragain', 'new', 'new flight', 'newark', 'news', 'next', 'next flight', 'next time', 'nice', 'night', 'nightmar', 'no', 'no answer', 'no bag', 'no call', 'no flight', 'no gate', 'no help', 'no longer', 'no one', 'no one answer', 'no problem', 'no reason', 'no respons', 'no thank', 'no way', 'no worri', 'non', 'none', 'nonstop', 'nope', 'not', 'not accept', 'not cancel', 'not even', 'not fli', 'not get', 'not go', 'not good', 'not happi', 'not help', 'not sure', 'not weather', 'not work', 'note', 'noth', 'notic', 'notif', 'notifi', 'now', 'now cant', 'now delay', 'now flight', 'now im', 'now no', 'now wait', 'number', 'number call', 'ny', 'nyc', 'offer', 'offic', 'offici', 'oh', 'ohar', 'ok', 'ok thank', 'okay', 'old', 'onboard', 'one', 'one answer', 'onlin', 'onto', 'open', 'oper', 'option', 'ord', 'order', 'origin', 'orlando', 'oscar', 'other', 'outsid', 'over', 'over hour', 'over hr', 'over min', 'over phone', 'overbook', 'overhead', 'overnight', 'page', 'paid', 'pain', 'park', 'part', 'parti', 'partner', 'pass', 'passbook', 'passeng', 'passeng wall', 'past', 'pathet', 'pay', 'peopl', 'per', 'perfect', 'person', 'philadelphia', 'philli', 'phl', 'phoenix', 'phone', 'phone call', 'phone line', 'phone number', 'phx', 'pick', 'pictur', 'pilot', 'pl', 'place', 'plan', 'plane', 'plane hour', 'platinum', 'play', 'pleas', 'pleas get', 'pleas help', 'plu', 'plz', 'pm', 'point', 'polici', 'poor', 'poor custom', 'poor custom servic', 'posit', 'possibl', 'post', 'power', 'ppl', 'prefer', 'premier', 'pretti', 'price', 'prioriti', 'probabl', 'problem', 'problem flight', 'process', 'profession', 'program', 'promis', 'prompt', 'provid', 'pull', 'purchas', 'push', 'put', 'put hold', 'question', 'quick', 'quick respons', 'rais', 'rate', 'rather', 'rd', 'rdu', 're', 'reach', 'read', 'readi', 'real', 'real person', 'realli', 'reason', 'rebook', 'rebook flight', 'receipt', 'receiv', 'record', 'redeem', 'reflight', 'reflight book', 'reflight book problem', 'refund', 'refus', 'regard', 'reimburs', 'relat', 'rememb', 'remind', 'remov', 'rental', 'rep', 'repli', 'report', 'repres', 'request', 'requir', 'rerout', 'reschedul', 'reschedul flight', 'reserv', 'resolut', 'resolv', 'respond', 'respons', 'result', 'return', 'return flight', 'ride', 'ridicul', 'right', 'right now', 'rock', 'room', 'round', 'roundtrip', 'rout', 'row', 'rt', 'rt jetblu', 'rt jetblu fleet', 'rt jetblu fleet fleek', 'rude', 'ruin', 'rule', 'run', 'runway', 'sad', 'safe', 'safeti', 'said', 'sale', 'san', 'san diego', 'sat', 'saturday', 'save', 'saw', 'say', 'schedul', 'screw', 'seat', 'seat assign', 'seattl', 'second', 'secur', 'see', 'seem', 'seem like', 'seen', 'select', 'sell', 'send', 'sens', 'sent', 'sent dm', 'seriou', 'serious', 'serv', 'servic', 'servic ever', 'servic line', 'servic rep', 'set', 'sever', 'sfo', 'shame', 'share', 'she', 'shit', 'short', 'shouldnt', 'show', 'sick', 'sign', 'sinc', 'singl', 'sit', 'sit gate', 'sit plane', 'sit runway', 'site', 'situat', 'sky', 'sleep', 'slow', 'small', 'smh', 'snack', 'snow', 'social', 'social media', 'solut', 'someon', 'someth', 'somewher', 'son', 'soon', 'sorri', 'sort', 'sound', 'south', 'southwest', 'southwestair', 'southwestair fli', 'southwestair flight', 'southwestair flight cancel', 'southwestair get', 'southwestair great', 'southwestair guy', 'southwestair hi', 'southwestair hold', 'southwestair im', 'southwestair just', 'southwestair love', 'southwestair need', 'southwestair no', 'southwestair not', 'southwestair pleas', 'southwestair thank', 'southwestair tri', 'southwestair ye', 'space', 'speak', 'speak someon', 'special', 'spend', 'spent', 'spoke', 'st', 'st class', 'staff', 'stand', 'standbi', 'start', 'state', 'statu', 'stay', 'step', 'stewardess', 'still', 'still cant', 'still havent', 'still no', 'still not', 'still sit', 'still wait', 'stop', 'stori', 'storm', 'strand', 'stress', 'stuck', 'stuff', 'submit', 'suck', 'suggest', 'sunday', 'super', 'supervisor', 'support', 'suppos', 'sure', 'surpris', 'svc', 'sw', 'swa', 'sweet', 'switch', 'system', 'tag', 'take', 'take care', 'taken', 'talk', 'talk someon', 'tarmac', 'team', 'tell', 'termin', 'terribl', 'terribl custom', 'terribl servic', 'text', 'th', 'thank', 'thank great', 'thank guy', 'thank help', 'thank make', 'thank much', 'thank take', 'that', 'that not', 'there', 'there no', 'theyr', 'thing', 'think', 'tho', 'though', 'thought', 'three', 'three hour', 'thru', 'thx', 'ticket', 'time', 'time fli', 'time flight', 'tire', 'tix', 'tmrw', 'today', 'togeth', 'told', 'tomorrow', 'tomorrow cancel', 'tomorrow morn', 'tonight', 'took', 'top', 'total', 'touch', 'toward', 'track', 'traffic', 'train', 'transfer', 'travel', 'treat', 'treat custom', 'tri', 'tri book', 'tri call', 'tri chang', 'tri get', 'trip', 'troubl', 'true', 'trueblu', 'trust', 'tsa', 'tuesday', 'turn', 'tv', 'tweet', 'twice', 'twitter', 'two', 'two day', 'two hour', 'two week', 'ua', 'uk', 'unabl', 'unaccept', 'unbeliev', 'understand', 'unfortun', 'unhappi', 'unhelp', 'unit', 'unit airlin', 'unit bag', 'unit cancel', 'unit cant', 'unit custom', 'unit custom servic', 'unit delay', 'unit dont', 'unit flight', 'unit gate', 'unit get', 'unit good', 'unit great', 'unit guy', 'unit help', 'unit hour', 'unit im', 'unit just', 'unit miss', 'unit need', 'unit never', 'unit no', 'unit not', 'unit now', 'unit pleas', 'unit realli', 'unit still', 'unit thank', 'unit that', 'unit tri', 'unit ua', 'unit well', 'unit what', 'unit worst', 'unit ye', 'unitedairlin', 'updat', 'updat flight', 'upgrad', 'upset', 'ur', 'us', 'us air', 'us airway', 'us flight', 'usair', 'usairway', 'usairway americanair', 'usairway cancel', 'usairway cant', 'usairway flight', 'usairway get', 'usairway got', 'usairway help', 'usairway hold', 'usairway hour', 'usairway im', 'usairway ive', 'usairway just', 'usairway minut', 'usairway need', 'usairway no', 'usairway not', 'usairway now', 'usairway pleas', 'usairway realli', 'usairway sit', 'usairway still', 'usairway thank', 'usairway told', 'usairway tri', 'usairway us', 'usairway worst', 'usairway ye', 'usairwaysfail', 'use', 'useless', 'usual', 'vacat', 'vega', 'via', 'video', 'view', 'virgin', 'virginamerica', 'virginamerica thank', 'visit', 'volum', 'voucher', 'wait', 'wait bag', 'wait flight', 'wait hold', 'wait hour', 'wait min', 'wait minut', 'wait time', 'waiv', 'walk', 'wall', 'want', 'want get', 'warm', 'wasnt', 'wast', 'wast time', 'watch', 'water', 'way', 'way get', 'weather', 'web', 'websit', 'wed', 'wednesday', 'week', 'week ago', 'weekend', 'welcom', 'well', 'went', 'werent', 'weve', 'what', 'what go', 'wheel', 'wheelchair', 'whole', 'wife', 'wifi', 'will', 'win', 'window', 'winter', 'wish', 'within', 'without', 'wo', 'woman', 'wonder', 'wont', 'wont let', 'word', 'work', 'world', 'worri', 'wors', 'worst', 'worst airlin', 'worst airlin ever', 'worst custom', 'worst custom servic', 'worst custom servic ever', 'worst experi', 'worth', 'wouldnt', 'wow', 'wrong', 'wsj', 'wtf', 'yall', 'ye', 'yeah', 'year', 'year old', 'yesterday', 'yet', 'youll', 'your', 'youv', 'yr', 'zero']\n"
     ]
    }
   ],
   "source": [
    "print(sorted((Vectorizer.get_feature_names())))"
   ]
  },
  {
   "cell_type": "code",
   "execution_count": 27,
   "metadata": {},
   "outputs": [
    {
     "name": "stdout",
     "output_type": "stream",
     "text": [
      "[('aa', 207), ('abl', 98), ('absolut', 38), ('absurd', 11), ('accept', 45), ('access', 31), ('accommod', 26), ('accord', 8), ('account', 59), ('acct', 12), ('act', 11), ('action', 10), ('actual', 75), ('ad', 34), ('add', 67), ('addit', 15), ('address', 38), ('admir', 14), ('advanc', 9), ('advantag', 13), ('advis', 15), ('advisori', 17), ('affect', 10), ('afford', 13), ('afternoon', 23), ('age', 12), ('agent', 329), ('ago', 97), ('ah', 10), ('ahead', 14), ('air', 103), ('aircraft', 25), ('airfar', 10), ('airlin', 420), ('airplan', 18), ('airport', 273), ('airway', 72), ('alert', 14), ('alist', 8), ('allianc', 9), ('allow', 67), ('almost', 70), ('alon', 13), ('along', 13), ('alreadi', 136), ('alright', 9), ('also', 95), ('altern', 15), ('although', 12), ('alway', 89), ('amaz', 73), ('america', 15), ('american', 56), ('americanair', 2218), ('americanairlin', 20), ('amount', 11), ('amp', 487), ('angri', 14), ('announc', 40), ('annoy', 13), ('anoth', 213), ('answer', 151), ('anymor', 18), ('anyon', 86), ('anyth', 110), ('anyway', 20), ('anywher', 15), ('apolog', 61), ('app', 82), ('appar', 32), ('appear', 15), ('appeas', 11), ('appli', 23), ('appreci', 128), ('approach', 8), ('april', 12), ('area', 24), ('arent', 30), ('around', 50), ('arrang', 13), ('arriv', 140), ('asap', 29), ('ask', 127), ('ass', 8), ('assign', 24), ('assist', 62), ('assum', 9), ('atl', 31), ('atlanta', 26), ('attempt', 19), ('attend', 113), ('attent', 10), ('attitud', 25), ('au', 9), ('august', 9), ('austin', 28), ('auto', 17), ('autom', 25), ('automat', 13), ('avail', 90), ('avgeek', 17), ('aviat', 9), ('avoid', 13), ('aw', 44), ('awar', 11), ('award', 39), ('away', 53), ('awesom', 87), ('b', 61), ('babi', 23), ('back', 401), ('bad', 143), ('badcustomerservic', 15), ('badservic', 17), ('bag', 568), ('baggag', 173), ('ball', 8), ('band', 8), ('bank', 19), ('base', 12), ('basic', 14), ('bathroom', 11), ('battl', 12), ('bc', 71), ('bday', 12), ('bdl', 10), ('beach', 9), ('beat', 12), ('beauti', 17), ('becom', 14), ('begin', 18), ('behind', 19), ('believ', 51), ('benefit', 9), ('best', 144), ('bet', 12), ('better', 129), ('between', 34), ('beyond', 30), ('bf', 8), ('big', 55), ('bill', 9), ('bin', 17), ('birthday', 25), ('bit', 16), ('biz', 9), ('black', 8), ('blame', 20), ('blog', 8), ('blue', 34), ('bna', 19), ('bo', 49), ('board', 256), ('bonu', 8), ('book', 384), ('boston', 59), ('both', 52), ('bother', 19), ('bought', 24), ('boy', 9), ('brand', 15), ('break', 20), ('breakfast', 9), ('bring', 50), ('broke', 16), ('broken', 48), ('brother', 13), ('bs', 17), ('btw', 19), ('bu', 17), ('buf', 11), ('buffalo', 10), ('bump', 28), ('busi', 133), ('buy', 34), ('bwi', 32), ('c', 35), ('cab', 12), ('cabin', 22), ('california', 8), ('call', 592), ('callback', 16), ('came', 22), ('can', 8), ('cancel', 800), ('cancun', 10), ('cant', 426), ('captain', 19), ('car', 51), ('card', 67), ('care', 119), ('carousel', 11), ('carri', 46), ('carrier', 16), ('carrieunderwood', 10), ('carryon', 16), ('case', 33), ('catch', 22), ('cater', 18), ('caus', 63), ('cc', 11), ('center', 18), ('ceo', 32), ('certain', 8), ('certainli', 9), ('certif', 9), ('chair', 9), ('chairman', 11), ('chanc', 61), ('chang', 333), ('charact', 13), ('charg', 94), ('charlott', 50), ('chat', 8), ('cheap', 13), ('cheaper', 11), ('check', 337), ('checkin', 48), ('cheer', 12), ('chicago', 65), ('child', 21), ('children', 17), ('choic', 23), ('choos', 15), ('citi', 48), ('claim', 82), ('class', 103), ('clean', 16), ('clear', 20), ('clearli', 17), ('click', 13), ('client', 14), ('close', 40), ('cloth', 28), ('clt', 62), ('club', 38), ('clue', 11), ('cmh', 10), ('coach', 8), ('coast', 9), ('coat', 9), ('code', 24), ('coffe', 15), ('cold', 26), ('columbu', 14), ('combin', 9), ('come', 139), ('comfort', 12), ('comment', 8), ('commerci', 15), ('commit', 8), ('commun', 43), ('comp', 12), ('compani', 61), ('companion', 34), ('compens', 50), ('complain', 18), ('complaint', 53), ('complet', 56), ('comput', 46), ('concern', 34), ('condit', 15), ('conf', 15), ('confirm', 103), ('confus', 16), ('congrat', 13), ('connect', 233), ('consid', 29), ('consist', 13), ('contact', 82), ('contest', 9), ('continu', 34), ('control', 23), ('convers', 9), ('cool', 48), ('corpor', 16), ('correct', 34), ('cost', 63), ('costum', 8), ('couldnt', 83), ('count', 56), ('counter', 32), ('countri', 23), ('coupl', 11), ('cours', 24), ('courtesi', 11), ('cover', 27), ('crap', 10), ('crappi', 12), ('crash', 14), ('crazi', 24), ('creat', 13), ('credit', 94), ('crew', 173), ('cri', 14), ('cross', 29), ('cs', 16), ('csr', 8), ('cun', 9), ('current', 50), ('cust', 40), ('custom', 707), ('customerservic', 26), ('cut', 22), ('d', 23), ('dad', 12), ('daili', 13), ('dal', 9), ('dalla', 59), ('damag', 19), ('damn', 16), ('date', 40), ('daughter', 24), ('day', 418), ('dc', 42), ('dca', 74), ('dead', 10), ('deal', 66), ('death', 12), ('decid', 15), ('decis', 14), ('defin', 8), ('definit', 23), ('degre', 13), ('deic', 16), ('delay', 738), ('deliv', 42), ('deliveri', 14), ('delta', 82), ('den', 24), ('deni', 21), ('denver', 61), ('depart', 64), ('departur', 71), ('deplan', 19), ('dept', 15), ('deserv', 20), ('design', 13), ('desk', 57), ('despit', 26), ('destin', 53), ('destinationdragon', 61), ('detail', 32), ('devic', 9), ('dfw', 102), ('dfwairport', 14), ('dia', 10), ('didnt', 152), ('die', 17), ('diego', 15), ('diff', 12), ('differ', 76), ('dinner', 9), ('direct', 71), ('directli', 10), ('dirti', 8), ('disappear', 9), ('disappoint', 101), ('disast', 11), ('disconnect', 46), ('discount', 15), ('disgrac', 9), ('disgust', 19), ('divert', 11), ('dividend', 27), ('dm', 213), ('dmd', 12), ('dmed', 12), ('do', 53), ('doesnt', 123), ('dog', 12), ('dollar', 17), ('domest', 16), ('done', 94), ('dont', 359), ('door', 29), ('doubl', 13), ('doubt', 8), ('dragon', 22), ('dream', 11), ('drink', 28), ('drive', 44), ('drop', 40), ('drove', 9), ('drunk', 8), ('due', 183), ('e', 14), ('each', 32), ('earli', 65), ('earlier', 74), ('earn', 17), ('easi', 33), ('easier', 8), ('easili', 10), ('east', 12), ('eat', 13), ('economi', 11), ('effort', 16), ('either', 26), ('elev', 9), ('elit', 11), ('els', 47), ('elsewher', 9), ('em', 8), ('email', 214), ('embarrass', 10), ('emerg', 20), ('employe', 83), ('empti', 32), ('end', 61), ('engin', 13), ('english', 8), ('enjoy', 29), ('enough', 54), ('enter', 23), ('entertain', 25), ('entir', 37), ('epicfail', 8), ('equal', 8), ('equip', 19), ('error', 46), ('especi', 19), ('est', 8), ('estim', 11), ('etc', 12), ('even', 236), ('event', 11), ('eventu', 12), ('ever', 183), ('everi', 86), ('everyon', 65), ('everyth', 36), ('ewr', 63), ('exact', 10), ('exactli', 13), ('exampl', 10), ('excel', 20), ('except', 25), ('excit', 25), ('excus', 22), ('exec', 9), ('exist', 20), ('exit', 17), ('exp', 8), ('expect', 66), ('expens', 19), ('experi', 159), ('experienc', 17), ('expir', 28), ('explain', 37), ('explan', 21), ('extend', 13), ('extra', 73), ('extrem', 30), ('eye', 12), ('f', 13), ('fa', 12), ('faa', 8), ('fabul', 8), ('face', 16), ('fact', 24), ('fail', 109), ('failur', 22), ('fair', 16), ('fall', 13), ('famili', 65), ('fan', 22), ('fantast', 15), ('far', 55), ('fare', 40), ('fast', 12), ('faster', 11), ('father', 10), ('fault', 28), ('favorit', 19), ('fb', 8), ('featur', 12), ('feb', 29), ('februari', 9), ('fee', 91), ('feedback', 15), ('feel', 57), ('feet', 10), ('felt', 10), ('few', 52), ('fight', 12), ('figur', 42), ('file', 35), ('fill', 22), ('final', 119), ('find', 126), ('fine', 28), ('finger', 19), ('fire', 9), ('first', 198), ('fit', 14), ('five', 12), ('fix', 100), ('fl', 24), ('fleek', 109), ('fleet', 106), ('flew', 34), ('fli', 519), ('flier', 9), ('flight', 3576), ('flightat', 18), ('flightd', 19), ('flightl', 388), ('flightlat', 55), ('flightr', 120), ('fll', 38), ('floor', 11), ('florida', 13), ('flown', 28), ('flt', 119), ('flyer', 40), ('flyfi', 13), ('flyingitforward', 9), ('folk', 23), ('follow', 154), ('food', 57), ('forc', 31), ('forev', 11), ('forget', 15), ('forgot', 14), ('form', 31), ('fort', 10), ('fortunemagazin', 8), ('forward', 39), ('found', 59), ('four', 21), ('francisco', 8), ('fraud', 8), ('freak', 9), ('free', 101), ('freez', 15), ('frequent', 22), ('friday', 23), ('friend', 76), ('friendli', 19), ('frm', 8), ('front', 24), ('frozen', 12), ('frustrat', 106), ('ft', 10), ('fuck', 35), ('fuel', 10), ('full', 70), ('fun', 28), ('function', 9), ('fund', 9), ('funer', 20), ('funni', 17), ('futur', 27), ('fyi', 14), ('g', 8), ('game', 16), ('garbag', 8), ('gate', 413), ('gave', 51), ('gener', 15), ('get', 1213), ('girl', 8), ('give', 173), ('given', 39), ('glad', 37), ('global', 12), ('go', 465), ('god', 17), ('goe', 19), ('gold', 21), ('golf', 8), ('gon', 27), ('gone', 17), ('good', 215), ('got', 363), ('gotten', 15), ('great', 249), ('ground', 66), ('group', 43), ('gt', 35), ('guarante', 11), ('guess', 51), ('guitar', 10), ('guy', 306), ('h', 13), ('ha', 10), ('haha', 24), ('half', 44), ('hand', 22), ('handl', 53), ('hang', 56), ('happen', 114), ('happi', 76), ('hard', 46), ('hasnt', 20), ('hate', 34), ('havent', 66), ('hawaii', 11), ('he', 21), ('head', 43), ('hear', 55), ('heard', 39), ('heart', 11), ('heat', 8), ('heathrow', 8), ('held', 21), ('hell', 19), ('hello', 20), ('help', 797), ('here', 10), ('hey', 55), ('hi', 66), ('high', 32), ('higher', 10), ('hire', 19), ('hit', 14), ('hold', 508), ('holder', 11), ('home', 230), ('honest', 12), ('honor', 19), ('hook', 13), ('hope', 185), ('horribl', 66), ('hostag', 8), ('hot', 12), ('hotel', 108), ('hour', 883), ('hous', 10), ('houston', 42), ('howev', 15), ('hr', 326), ('huge', 29), ('huh', 8), ('human', 38), ('hundr', 11), ('hung', 70), ('husband', 31), ('iad', 49), ('iah', 36), ('ice', 22), ('id', 84), ('idea', 44), ('idiot', 9), ('ignor', 16), ('ill', 129), ('im', 544), ('imagin', 18), ('imaginedragon', 31), ('immedi', 9), ('import', 11), ('imposs', 17), ('impress', 29), ('improv', 15), ('incid', 9), ('includ', 22), ('incompet', 25), ('inconveni', 29), ('increas', 9), ('incred', 22), ('indic', 8), ('industri', 8), ('infant', 13), ('inflight', 28), ('info', 116), ('inform', 50), ('insan', 11), ('insid', 17), ('instead', 76), ('insult', 9), ('integr', 8), ('intent', 8), ('interest', 12), ('intern', 47), ('internet', 16), ('interview', 11), ('intl', 14), ('io', 9), ('iphon', 13), ('isnt', 77), ('issu', 203), ('item', 26), ('itinerari', 19), ('itâ\\x80\\x99', 8), ('ive', 234), ('iâ\\x80\\x99m', 16), ('jan', 11), ('jb', 9), ('jblu', 11), ('jet', 40), ('jetblu', 1685), ('jetway', 11), ('jfk', 143), ('job', 58), ('joke', 41), ('journal', 10), ('juan', 11), ('jump', 11), ('just', 734), ('k', 47), ('keep', 141), ('kept', 22), ('kick', 9), ('kid', 78), ('kill', 15), ('kind', 30), ('kiosk', 9), ('knew', 25), ('know', 288), ('known', 15), ('ktn', 9), ('kudo', 22), ('la', 65), ('lack', 39), ('ladi', 19), ('ladygaga', 9), ('land', 130), ('lap', 8), ('larg', 10), ('last', 220), ('late', 317), ('lauderdal', 10), ('lauren', 8), ('lax', 80), ('layov', 24), ('lb', 8), ('lead', 10), ('learn', 33), ('least', 65), ('leav', 143), ('left', 124), ('leg', 38), ('legroom', 13), ('less', 48), ('lesson', 9), ('let', 200), ('letter', 19), ('level', 14), ('lga', 36), ('lie', 41), ('life', 29), ('light', 11), ('like', 346), ('limit', 10), ('line', 162), ('link', 57), ('list', 39), ('listen', 22), ('liter', 19), ('littl', 59), ('live', 45), ('load', 46), ('local', 11), ('locat', 40), ('log', 12), ('logan', 12), ('lol', 40), ('london', 9), ('long', 134), ('longer', 46), ('look', 225), ('lose', 67), ('lost', 188), ('lot', 65), ('loung', 23), ('love', 219), ('lovedragonss', 10), ('low', 11), ('loyal', 33), ('loyalti', 8), ('lt', 17), ('luck', 24), ('luggag', 187), ('luv', 31), ('m', 10), ('mad', 17), ('made', 168), ('mail', 14), ('main', 11), ('mainten', 37), ('major', 18), ('make', 358), ('malfunct', 8), ('man', 23), ('manag', 35), ('mani', 71), ('march', 17), ('mark', 14), ('market', 13), ('match', 17), ('matter', 25), ('may', 52), ('mayb', 56), ('mci', 9), ('mco', 24), ('mdw', 8), ('meal', 26), ('mean', 83), ('meant', 9), ('mechan', 54), ('media', 32), ('meet', 24), ('member', 67), ('memori', 8), ('memphi', 9), ('mention', 21), ('merg', 15), ('merger', 20), ('mess', 40), ('messag', 66), ('met', 11), ('method', 9), ('mexico', 15), ('mia', 18), ('miami', 37), ('middl', 29), ('midnight', 12), ('might', 55), ('mile', 128), ('mileag', 23), ('mileageplu', 14), ('militari', 11), ('million', 8), ('min', 277), ('mind', 22), ('mine', 23), ('minor', 11), ('mint', 12), ('minut', 265), ('miser', 9), ('miss', 318), ('mistak', 22), ('mke', 10), ('mobil', 25), ('model', 9), ('mom', 26), ('moment', 11), ('mon', 8), ('monday', 41), ('money', 72), ('month', 63), ('morn', 128), ('mother', 10), ('move', 67), ('movi', 10), ('msg', 15), ('msp', 8), ('much', 185), ('multipl', 26), ('music', 14), ('must', 30), ('n', 16), ('na', 41), ('nah', 9), ('name', 78), ('nashvil', 27), ('nasti', 9), ('nc', 11), ('nd', 40), ('near', 12), ('nearli', 12), ('need', 510), ('never', 240), ('neveragain', 19), ('new', 197), ('newark', 43), ('news', 25), ('next', 179), ('nice', 105), ('night', 118), ('nightmar', 16), ('no', 1113), ('nobodi', 12), ('non', 22), ('none', 20), ('nonstop', 22), ('nope', 22), ('normal', 11), ('not', 1168), ('note', 27), ('noth', 106), ('nothappi', 10), ('notic', 24), ('notif', 27), ('notifi', 21), ('now', 767), ('number', 183), ('ny', 21), ('nyc', 49), ('obvious', 12), ('offer', 106), ('offic', 28), ('offici', 20), ('often', 9), ('oh', 66), ('ohar', 14), ('ok', 81), ('okay', 30), ('okc', 9), ('old', 63), ('omg', 13), ('onboard', 15), ('one', 437), ('onlin', 151), ('ontim', 10), ('onto', 18), ('open', 86), ('oper', 32), ('opportun', 11), ('option', 90), ('ord', 65), ('order', 24), ('origin', 46), ('orlando', 28), ('oscar', 21), ('other', 19), ('otherwis', 11), ('ourselv', 8), ('outbound', 9), ('outsid', 14), ('outstand', 12), ('over', 295), ('overbook', 17), ('overhead', 25), ('overnight', 25), ('p', 10), ('pack', 10), ('page', 26), ('paid', 65), ('pain', 14), ('pair', 12), ('palm', 8), ('parent', 11), ('pari', 8), ('park', 13), ('part', 30), ('parti', 14), ('partner', 13), ('pass', 98), ('passbook', 19), ('passeng', 170), ('past', 62), ('pathet', 17), ('patienc', 11), ('patient', 14), ('pay', 148), ('payment', 9), ('pbi', 12), ('pdx', 14), ('peanut', 9), ('peopl', 211), ('per', 17), ('perfect', 12), ('perform', 9), ('perhap', 14), ('person', 106), ('philadelphia', 19), ('philli', 40), ('phl', 72), ('phlairport', 14), ('phoenix', 19), ('phone', 327), ('photo', 14), ('phx', 49), ('pic', 12), ('pick', 47), ('pictur', 13), ('piec', 10), ('pilot', 100), ('piss', 11), ('pit', 10), ('pittsburgh', 8), ('pl', 40), ('place', 50), ('plan', 73), ('plane', 539), ('platinum', 31), ('play', 17), ('pleas', 404), ('pleasant', 11), ('plenti', 11), ('plu', 46), ('plz', 20), ('pm', 124), ('point', 94), ('polic', 10), ('polici', 64), ('poor', 62), ('poorli', 8), ('poorservic', 8), ('posit', 18), ('possibl', 58), ('post', 30), ('power', 16), ('ppl', 21), ('pr', 12), ('practic', 10), ('pre', 10), ('precheck', 11), ('prefer', 24), ('premier', 19), ('premium', 9), ('prepar', 11), ('pretti', 31), ('prevent', 10), ('previou', 11), ('price', 53), ('print', 10), ('prior', 11), ('prioriti', 30), ('prob', 8), ('probabl', 31), ('problem', 230), ('procedur', 10), ('process', 47), ('profession', 16), ('profit', 14), ('program', 22), ('promis', 28), ('promo', 12), ('promot', 11), ('prompt', 14), ('properli', 9), ('provid', 67), ('pt', 11), ('public', 13), ('pull', 23), ('purchas', 43), ('push', 20), ('put', 123), ('q', 8), ('qualiti', 12), ('question', 63), ('queue', 9), ('quick', 33), ('quickli', 12), ('r', 30), ('rais', 16), ('raleigh', 9), ('rapid', 11), ('rate', 25), ('rather', 33), ('rd', 24), ('rdu', 22), ('re', 36), ('reach', 46), ('read', 33), ('readi', 30), ('real', 46), ('realiz', 16), ('realli', 232), ('reason', 74), ('rebook', 209), ('receipt', 19), ('receiv', 87), ('recent', 13), ('recommend', 10), ('record', 30), ('red', 14), ('redeem', 16), ('refer', 11), ('reflight', 39), ('refund', 125), ('refus', 35), ('regard', 17), ('regist', 8), ('reimburs', 28), ('relat', 32), ('releas', 10), ('rememb', 17), ('remind', 17), ('remov', 15), ('rent', 13), ('rental', 13), ('rep', 102), ('replac', 16), ('repli', 58), ('report', 34), ('repres', 21), ('request', 57), ('requir', 20), ('rerout', 22), ('reschedul', 61), ('reserv', 193), ('resolut', 16), ('resolv', 42), ('respect', 12), ('respond', 69), ('respons', 169), ('rest', 9), ('result', 14), ('retriev', 12), ('return', 70), ('revenu', 8), ('review', 9), ('reward', 16), ('ride', 15), ('ridicul', 70), ('right', 152), ('rip', 8), ('road', 9), ('rock', 39), ('room', 41), ('round', 19), ('roundtrip', 13), ('rout', 35), ('row', 56), ('rr', 9), ('rsw', 9), ('rt', 63), ('rude', 108), ('ruin', 33), ('rule', 15), ('run', 61), ('runway', 49), ('s', 39), ('sad', 24), ('sadli', 10), ('safe', 28), ('safeti', 29), ('said', 140), ('sale', 12), ('san', 61), ('sat', 44), ('saturday', 19), ('save', 29), ('saw', 21), ('say', 242), ('schedul', 69), ('school', 8), ('screen', 13), ('screw', 31), ('sea', 11), ('search', 8), ('seat', 370), ('seattl', 16), ('second', 46), ('secur', 22), ('see', 212), ('seem', 79), ('seen', 24), ('select', 21), ('sell', 19), ('send', 94), ('sens', 21), ('sent', 146), ('separ', 11), ('seriou', 15), ('serious', 64), ('serv', 27), ('servic', 740), ('set', 26), ('sever', 34), ('sf', 10), ('sfo', 71), ('shame', 21), ('share', 43), ('she', 27), ('ship', 8), ('shit', 24), ('shock', 10), ('short', 19), ('shot', 10), ('shouldnt', 26), ('shouldv', 9), ('shout', 9), ('show', 112), ('shown', 8), ('shuttl', 12), ('sick', 17), ('side', 10), ('sign', 32), ('silver', 13), ('simpl', 10), ('simpli', 13), ('sinc', 127), ('sincer', 10), ('singl', 15), ('sister', 11), ('sit', 205), ('site', 68), ('situat', 33), ('six', 10), ('sju', 10), ('ski', 9), ('sky', 14), ('slc', 11), ('sleep', 41), ('slow', 18), ('small', 23), ('smh', 16), ('smile', 9), ('snack', 15), ('snow', 67), ('social', 23), ('sold', 13), ('solut', 18), ('solv', 11), ('someon', 179), ('someth', 70), ('somewher', 13), ('son', 24), ('song', 11), ('soon', 50), ('sorri', 74), ('sort', 24), ('sound', 23), ('south', 15), ('southwest', 79), ('southwestair', 1830), ('space', 28), ('speak', 89), ('special', 18), ('specif', 12), ('speed', 12), ('spend', 28), ('spent', 35), ('spoke', 24), ('spot', 11), ('spring', 12), ('st', 93), ('staff', 139), ('stand', 20), ('standard', 11), ('standbi', 37), ('star', 11), ('start', 93), ('state', 27), ('statu', 80), ('stay', 55), ('step', 26), ('stewardess', 13), ('stick', 12), ('still', 437), ('stl', 10), ('stop', 74), ('stori', 26), ('storm', 33), ('straight', 11), ('strand', 69), ('street', 12), ('stress', 18), ('strike', 8), ('stroller', 10), ('stuck', 121), ('student', 10), ('stuff', 16), ('submit', 29), ('suck', 85), ('suggest', 34), ('suitcas', 9), ('summer', 8), ('sun', 11), ('sunday', 34), ('super', 34), ('supervisor', 34), ('support', 33), ('suppos', 77), ('sure', 135), ('surgeri', 9), ('surpris', 25), ('svc', 18), ('sw', 28), ('swa', 44), ('sweet', 14), ('switch', 54), ('system', 106), ('t', 10), ('ta', 14), ('tag', 25), ('take', 294), ('taken', 30), ('takeoff', 17), ('talk', 104), ('tampa', 10), ('tarmac', 59), ('taxi', 15), ('teach', 9), ('team', 87), ('tech', 9), ('technic', 8), ('tell', 172), ('termin', 46), ('terribl', 85), ('texa', 12), ('text', 22), ('th', 69), ('thank', 1307), ('that', 164), ('there', 56), ('theyr', 37), ('theyv', 10), ('thing', 92), ('think', 124), ('third', 13), ('thnx', 8), ('tho', 18), ('though', 70), ('thought', 47), ('three', 52), ('throw', 9), ('thru', 42), ('thursday', 9), ('thx', 81), ('ticket', 297), ('til', 13), ('till', 14), ('time', 704), ('tire', 24), ('tix', 23), ('tmrw', 19), ('today', 312), ('toddler', 8), ('togeth', 48), ('told', 197), ('tomorrow', 224), ('ton', 8), ('tonight', 124), ('took', 70), ('top', 28), ('total', 39), ('touch', 21), ('tough', 11), ('toward', 16), ('tpa', 8), ('track', 23), ('traffic', 14), ('train', 38), ('transfer', 30), ('transport', 9), ('trap', 8), ('travel', 280), ('treat', 56), ('treatment', 12), ('tri', 439), ('trip', 178), ('troubl', 23), ('true', 21), ('trueblu', 12), ('truli', 12), ('trust', 20), ('tsa', 33), ('tuesday', 28), ('turn', 38), ('tv', 42), ('tweet', 82), ('twice', 53), ('twitter', 62), ('two', 175), ('ty', 11), ('type', 12), ('u', 265), ('ua', 151), ('ual', 11), ('ugh', 16), ('uk', 16), ('unabl', 24), ('unaccept', 67), ('unavail', 9), ('unbeliev', 15), ('uncomfort', 9), ('understand', 91), ('unfortun', 28), ('unfriendlyski', 9), ('unhappi', 21), ('unhelp', 20), ('unit', 3155), ('unitedairlin', 35), ('unitedfail', 8), ('unprofession', 9), ('unreal', 10), ('upcom', 10), ('updat', 127), ('upgrad', 109), ('upset', 26), ('ur', 60), ('us', 523), ('usa', 11), ('usair', 35), ('usairway', 2247), ('usairwaysfail', 21), ('use', 220), ('useless', 17), ('usual', 21), ('vacat', 50), ('valid', 8), ('valu', 11), ('vega', 62), ('via', 89), ('video', 18), ('view', 18), ('virgin', 24), ('virginamerica', 377), ('visit', 17), ('volum', 19), ('voucher', 104), ('vx', 11), ('w', 111), ('wait', 559), ('waiv', 14), ('walk', 17), ('wall', 19), ('wan', 11), ('want', 235), ('warm', 19), ('warn', 10), ('washington', 9), ('wasnt', 72), ('wast', 42), ('watch', 44), ('water', 26), ('way', 261), ('weather', 221), ('web', 20), ('websit', 122), ('wed', 29), ('wednesday', 14), ('week', 151), ('weekend', 20), ('weight', 8), ('welcom', 18), ('well', 152), ('went', 50), ('werent', 16), ('west', 8), ('wet', 8), ('weve', 50), ('what', 115), ('whatev', 9), ('wheel', 12), ('wheelchair', 12), ('who', 8), ('whole', 31), ('whose', 9), ('wife', 65), ('wifi', 94), ('will', 17), ('win', 21), ('window', 20), ('winner', 10), ('winter', 24), ('wish', 29), ('within', 13), ('without', 77), ('wo', 17), ('woman', 12), ('won', 8), ('wonder', 53), ('wont', 140), ('word', 38), ('work', 292), ('worker', 10), ('world', 33), ('worri', 42), ('wors', 42), ('worst', 187), ('worth', 17), ('wouldnt', 40), ('wouldv', 8), ('wout', 8), ('wow', 29), ('write', 12), ('wrong', 57), ('wsj', 11), ('wtf', 33), ('x', 27), ('y', 11), ('yall', 65), ('yay', 9), ('ye', 183), ('yea', 8), ('yeah', 30), ('year', 118), ('yell', 11), ('yep', 12), ('yesterday', 83), ('yet', 109), ('yo', 13), ('york', 11), ('youd', 10), ('youll', 18), ('young', 8), ('your', 127), ('youv', 43), ('yr', 35), ('yyz', 10), ('zero', 27), ('zone', 8), ('â\\x80\\x9camericanair', 13), ('â\\x80\\x9cjetblu', 72), ('â\\x80\\x9csouthwestair', 9), ('â\\x80\\x9cunit', 18), ('â\\x80\\x9cusairway', 9), ('â\\x9c\\x88ï¸\\x8f', 8), ('ð\\x9f\\x91\\x8d', 12), ('ð\\x9f\\x98', 9), ('ð\\x9f\\x98\\x89', 15), ('ð\\x9f\\x98\\x8a', 15), ('ð\\x9f\\x98\\x92', 11)]\n"
     ]
    }
   ],
   "source": [
    "\n",
    "freq=nltk.FreqDist(word)\n",
    "print(sorted((freq.most_common(1500))))\n"
   ]
  },
  {
   "cell_type": "code",
   "execution_count": 28,
   "metadata": {},
   "outputs": [],
   "source": [
    "  #  a=['prove','proved',\"good\",\"excellent\",\"painting\",\"paint\"]\n",
    "   # b=[]\n",
    "    #print(a)\n",
    "   # b=[Stemmer.stem(w.lower()) for w in a]\n",
    "   # c=[new_stem.lemmatize(w.lower()) for w in a]\n",
    "   # d=[porter.stem(w.lower()) for w  in a]\n",
    "   # b,c,d"
   ]
  },
  {
   "cell_type": "code",
   "execution_count": 29,
   "metadata": {},
   "outputs": [],
   "source": [
    "# a='kajkakajkj,kjkdjkjd ssjshjshjshjhsy shshs sbsgsgshhgs'\n",
    " #   word_tokenize(a)\n",
    "  #  c=word_tokenize(train_data[0])\n",
    "   # print(word_tokenize(train_data[0])),print(c)\n",
    "   # d=[porter.stem(w.lower()) for w  in c]\n",
    "   # print(' '.join(d))"
   ]
  },
  {
   "cell_type": "markdown",
   "metadata": {},
   "source": [
    "# Using Logistic Regression from inbuild Skearn "
   ]
  },
  {
   "cell_type": "code",
   "execution_count": 30,
   "metadata": {},
   "outputs": [],
   "source": [
    "from sklearn.linear_model import LogisticRegression"
   ]
  },
  {
   "cell_type": "code",
   "execution_count": 31,
   "metadata": {},
   "outputs": [],
   "source": [
    "k_m=LogisticRegression(multi_class='auto',solver='lbfgs',max_iter=150)"
   ]
  },
  {
   "cell_type": "code",
   "execution_count": 32,
   "metadata": {},
   "outputs": [
    {
     "data": {
      "text/plain": [
       "((8235,), (2745,), (8235, 1500), (2745, 1500))"
      ]
     },
     "execution_count": 32,
     "metadata": {},
     "output_type": "execute_result"
    }
   ],
   "source": [
    "y_train=np.array(y_train)\n",
    "y_train=y_train.ravel()\n",
    "\n",
    "y_test=np.array(y_test)\n",
    "y_test=y_test.ravel()\n",
    "y_train.shape,y_test.shape,X_train.shape,X_test.shape"
   ]
  },
  {
   "cell_type": "code",
   "execution_count": 33,
   "metadata": {},
   "outputs": [
    {
     "data": {
      "text/plain": [
       "LogisticRegression(C=1.0, class_weight=None, dual=False, fit_intercept=True,\n",
       "          intercept_scaling=1, max_iter=150, multi_class='auto',\n",
       "          n_jobs=None, penalty='l2', random_state=None, solver='lbfgs',\n",
       "          tol=0.0001, verbose=0, warm_start=False)"
      ]
     },
     "execution_count": 33,
     "metadata": {},
     "output_type": "execute_result"
    }
   ],
   "source": [
    "k_m.fit(X_train,y_train)"
   ]
  },
  {
   "cell_type": "code",
   "execution_count": 34,
   "metadata": {},
   "outputs": [],
   "source": [
    "y_predicted=k_m.predict(X_test)"
   ]
  },
  {
   "cell_type": "code",
   "execution_count": 35,
   "metadata": {},
   "outputs": [
    {
     "name": "stdout",
     "output_type": "stream",
     "text": [
      "              precision    recall  f1-score   support\n",
      "\n",
      "           0       0.95      0.80      0.87      1958\n",
      "           1       0.49      0.70      0.57       437\n",
      "           2       0.61      0.82      0.70       350\n",
      "\n",
      "   micro avg       0.79      0.79      0.79      2745\n",
      "   macro avg       0.68      0.77      0.71      2745\n",
      "weighted avg       0.83      0.79      0.80      2745\n",
      "\n"
     ]
    }
   ],
   "source": [
    "print(classification_report(y_predicted, y_test))"
   ]
  },
  {
   "cell_type": "code",
   "execution_count": 36,
   "metadata": {},
   "outputs": [
    {
     "data": {
      "text/plain": [
       "(2745,)"
      ]
     },
     "execution_count": 36,
     "metadata": {},
     "output_type": "execute_result"
    }
   ],
   "source": [
    "y_predicted.shape"
   ]
  },
  {
   "cell_type": "code",
   "execution_count": 37,
   "metadata": {},
   "outputs": [
    {
     "data": {
      "text/plain": [
       "0.785063752276867"
      ]
     },
     "execution_count": 37,
     "metadata": {},
     "output_type": "execute_result"
    }
   ],
   "source": [
    "k_m.score(X_test,y_test)"
   ]
  },
  {
   "cell_type": "markdown",
   "metadata": {},
   "source": [
    "# Using Multinomial Naive Bayes from inbulid Skearn "
   ]
  },
  {
   "cell_type": "code",
   "execution_count": 38,
   "metadata": {},
   "outputs": [
    {
     "data": {
      "text/plain": [
       "MultinomialNB(alpha=1.0, class_prior=None, fit_prior=True)"
      ]
     },
     "execution_count": 38,
     "metadata": {},
     "output_type": "execute_result"
    }
   ],
   "source": [
    "from sklearn.naive_bayes import MultinomialNB\n",
    "mb=MultinomialNB()\n",
    "mb.fit(X_train,y_train)"
   ]
  },
  {
   "cell_type": "code",
   "execution_count": 39,
   "metadata": {},
   "outputs": [],
   "source": [
    "y_pred2=mb.predict(X_test)"
   ]
  },
  {
   "cell_type": "code",
   "execution_count": 40,
   "metadata": {},
   "outputs": [
    {
     "name": "stdout",
     "output_type": "stream",
     "text": [
      "              precision    recall  f1-score   support\n",
      "\n",
      "           0       0.98      0.72      0.83      2237\n",
      "           1       0.29      0.77      0.42       234\n",
      "           2       0.50      0.86      0.63       274\n",
      "\n",
      "   micro avg       0.74      0.74      0.74      2745\n",
      "   macro avg       0.59      0.78      0.63      2745\n",
      "weighted avg       0.87      0.74      0.78      2745\n",
      "\n"
     ]
    }
   ],
   "source": [
    "print(classification_report(y_pred2, y_test))"
   ]
  },
  {
   "cell_type": "code",
   "execution_count": 41,
   "metadata": {},
   "outputs": [
    {
     "data": {
      "text/plain": [
       "0.740983606557377"
      ]
     },
     "execution_count": 41,
     "metadata": {},
     "output_type": "execute_result"
    }
   ],
   "source": [
    "mb.score(X_test, y_test)"
   ]
  },
  {
   "cell_type": "markdown",
   "metadata": {},
   "source": [
    "# Using K-nearest Neighbors Classifier from inbulid Skearn "
   ]
  },
  {
   "cell_type": "code",
   "execution_count": 42,
   "metadata": {},
   "outputs": [
    {
     "data": {
      "text/plain": [
       "KNeighborsClassifier(algorithm='auto', leaf_size=30, metric='minkowski',\n",
       "           metric_params=None, n_jobs=None, n_neighbors=5, p=2,\n",
       "           weights='uniform')"
      ]
     },
     "execution_count": 42,
     "metadata": {},
     "output_type": "execute_result"
    }
   ],
   "source": [
    "from sklearn.neighbors import KNeighborsClassifier\n",
    "neigh = KNeighborsClassifier(n_neighbors=5)\n",
    "neigh.fit(X_train,y_train)"
   ]
  },
  {
   "cell_type": "code",
   "execution_count": 43,
   "metadata": {},
   "outputs": [],
   "source": [
    "y_pred4=neigh.predict(X_test)"
   ]
  },
  {
   "cell_type": "code",
   "execution_count": 44,
   "metadata": {},
   "outputs": [
    {
     "name": "stdout",
     "output_type": "stream",
     "text": [
      "              precision    recall  f1-score   support\n",
      "\n",
      "           0       0.77      0.82      0.79      1652\n",
      "           1       0.48      0.49      0.49       625\n",
      "           2       0.68      0.51      0.58       468\n",
      "\n",
      "   micro avg       0.69      0.69      0.69      2745\n",
      "   macro avg       0.64      0.61      0.62      2745\n",
      "weighted avg       0.69      0.69      0.69      2745\n",
      "\n",
      "[[1351  236   65]\n",
      " [ 267  309   49]\n",
      " [ 130   99  239]]\n"
     ]
    }
   ],
   "source": [
    "print(classification_report(y_test,y_pred4))\n",
    "print(confusion_matrix(y_test,y_pred4))"
   ]
  },
  {
   "cell_type": "code",
   "execution_count": 45,
   "metadata": {},
   "outputs": [
    {
     "data": {
      "text/plain": [
       "0.6918032786885245"
      ]
     },
     "execution_count": 45,
     "metadata": {},
     "output_type": "execute_result"
    }
   ],
   "source": [
    "neigh.score(X_test,y_test)"
   ]
  }
 ],
 "metadata": {
  "kernelspec": {
   "display_name": "Python 3",
   "language": "python",
   "name": "python3"
  },
  "language_info": {
   "codemirror_mode": {
    "name": "ipython",
    "version": 3
   },
   "file_extension": ".py",
   "mimetype": "text/x-python",
   "name": "python",
   "nbconvert_exporter": "python",
   "pygments_lexer": "ipython3",
   "version": "3.8.5"
  }
 },
 "nbformat": 4,
 "nbformat_minor": 2
}
